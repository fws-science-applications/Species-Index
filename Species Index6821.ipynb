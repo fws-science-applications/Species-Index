{
 "cells": [
  {
   "cell_type": "markdown",
   "metadata": {},
   "source": [
    "## Species Index for the SECAS Blueprint\n",
    "The source data is provided by SARP. The following cells provide the final processing steps needed to be fed into SECAS BP (SA and MiddleSE):\n",
    "\n",
    "- New attribute field added to the SECAS SGCN layer: Reclassed into bins based on count\n",
    "- Reclassed SGCN layer converted to a raster based on the new field created"
   ]
  },
  {
   "cell_type": "code",
   "execution_count": null,
   "metadata": {},
   "outputs": [],
   "source": [
    "#import libraries\n",
    "import arcpy\n",
    "import numpy as np\n",
    "import pandas as pd\n",
    "from arcgis.features import GeoAccessor, GeoSeriesAccessor"
   ]
  },
  {
   "cell_type": "code",
   "execution_count": null,
   "metadata": {},
   "outputs": [],
   "source": [
    "#create variables from needed layers: SECAS States SGCN and EPA Floodplain\n",
    "#EPA floodplain layer preprocessed from BRCI Model, consists of a polygon version for the SECAS Geography\n",
    "epa_fp = r\"D:\\PRAAT\\Aquatics\\Species\\Species_Indices\\SpeciesIndex6421.gdb\\floodplain_only\"\n",
    "sgcn = r\"D:\\PRAAT\\Aquatics\\Species\\Species_Indices\\SpeciesIndex6421.gdb\\SECAS_SGCN\""
   ]
  },
  {
   "cell_type": "code",
   "execution_count": null,
   "metadata": {},
   "outputs": [],
   "source": [
    "#convert featureclass to a dataframe\n",
    "sgcn_df = pd.DataFrame.spatial.from_featureclass(location = sgcn)"
   ]
  },
  {
   "cell_type": "code",
   "execution_count": null,
   "metadata": {},
   "outputs": [],
   "source": [
    "#create a variable for \n",
    "cols = sgcn_df.columns.tolist()"
   ]
  },
  {
   "cell_type": "code",
   "execution_count": null,
   "metadata": {},
   "outputs": [],
   "source": [
    "#create a binned column based on species count established by the SA Team, this may be changed to 0-3 to match MiddleSE \n",
    "vals = [0,1,2,3,4]\n",
    "reclass = [\n",
    "    (sgcn_df[cols[24]] == 0),\n",
    "    (sgcn_df[cols[24]] == 1),\n",
    "    (sgcn_df[cols[24]] == 2),\n",
    "    (sgcn_df[cols[24]] == 3),\n",
    "    (sgcn_df[cols[24]] >= 4)\n",
    "]\n",
    "\n",
    "sgcn_df['reclassed'] = np.select(reclass,vals)"
   ]
  },
  {
   "cell_type": "code",
   "execution_count": null,
   "metadata": {},
   "outputs": [],
   "source": [
    "#these are the fields want to keep and export back to create the feature class\n",
    "cols_export = ['HUC12_1','reclassed','SHAPE']"
   ]
  },
  {
   "cell_type": "code",
   "execution_count": null,
   "metadata": {},
   "outputs": [],
   "source": [
    "#set output path and name\n",
    "out1 = r\"D:\\PRAAT\\Aquatics\\Species\\Species_Indices\\SpeciesIndex6421.gdb\\reclassed_sgcn\""
   ]
  },
  {
   "cell_type": "code",
   "execution_count": null,
   "metadata": {},
   "outputs": [],
   "source": [
    "#convert back to featureclass\n",
    "out1 = r\"D:\\PRAAT\\Aquatics\\Species\\Species_Indices\\SpeciesIndex6421.gdb\\reclassed_sgcn\"\n",
    "sgcn_df[cols_export].spatial.to_featureclass(out1)"
   ]
  },
  {
   "cell_type": "code",
   "execution_count": null,
   "metadata": {},
   "outputs": [],
   "source": [
    "#convert new feature class to raster, mask extent to the EPA Floodplains\n",
    "inFeatures = out1\n",
    "valField = cols_export[1]\n",
    "outRaster = r\"D:\\PRAAT\\Aquatics\\Species\\Species_Indices\\SpeciesIndex6421.gdb\\sgcn_reclass_rast\"\n",
    "assignmentType = \"MAXIMUM_AREA\"\n",
    "cellSize = 0.005\n",
    "priorityField = \"\"\n",
    "\n",
    "arcpy.PolygonToRaster_conversion(inFeatures, valField, outRaster, \n",
    "                                 assignmentType, priorityField, cellSize)\n",
    "outR = r\"D:\\PRAAT\\Aquatics\\Species\\Species_Indices\\SpeciesIndex6421.gdb\\sgcn_reclass_rast_fp\"\n",
    "outExtractByMask = arcpy.sa.ExtractByMask(outRaster, epa_fp); outExtractByMask.save(outR)"
   ]
  }
 ],
 "metadata": {
  "kernelspec": {
   "display_name": "Python 3",
   "language": "python",
   "name": "python3"
  },
  "language_info": {
   "codemirror_mode": {
    "name": "ipython",
    "version": 3
   },
   "file_extension": ".py",
   "mimetype": "text/x-python",
   "name": "python",
   "nbconvert_exporter": "python",
   "pygments_lexer": "ipython3",
   "version": "3.8.5"
  }
 },
 "nbformat": 4,
 "nbformat_minor": 4
}
